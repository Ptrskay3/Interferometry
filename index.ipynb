{
 "cells": [
  {
   "cell_type": "markdown",
   "metadata": {},
   "source": [
    "## PySprint - Spectrally resolved interferometry in Python\n",
    "\n",
    "PySprint package is an open source Python package dedicated to evaluate measurements relying on spectrally and spatially resolved interferometry. The package aims to provide a fluent and smooth interface which takes away the burden of managing complex data processing tasks, however it can hand over the full control to the user when necessary. PySprint is integrated well in Jupyter Notebooks with rich inline HTML representations of objects. In the future there will be graphical interfaces added for the Jupyter Notebook using the [ipywidgets](https://ipywidgets.readthedocs.io/en/latest/) library. \n",
    "\n",
    "The supported methods are:\n",
    "\n",
    "* [Stationary phase point method](docs/hu_spp.ipynb) with:\n",
    "    * Eager Execution\n",
    "    * Powerful caching\n",
    "    * 3 different ways to record and evaluate data, including an interactive *matplotlib* editor\n",
    "* [Cosine function fit method](docs/hu_intro.ipynb) with:\n",
    "  * Successive optimizer with adaptive stepsize\n",
    "  * ... and also regular fitting\n",
    "* [Fourier-transform method](docs/hu_fft.ipynb) with:\n",
    "  * Automatic evaluation*\n",
    "  * Pulse shape and phase retrieval\n",
    "* [Windowed Fourier-transform method](docs/hu_wft.ipynb) with:\n",
    "  * Smart caching intermediate results\n",
    "  * Parallel computation\n",
    "  * Automated detection of the *GD* ridge\\**\n",
    "* [Minima–maxima method](docs/hu_minmax.ipynb) with:\n",
    "  * Phase retrieval of an interferogram having arbitrary complex SPP and extremal point setup\n",
    "  * Interactive *matplotlib* editor for extremal point recording\n",
    "  * Built-in tools to aid better and faster extremal point detection\n",
    "\n",
    "To see the full picture you might want to read about internals:\n",
    "* [Dataset](docs/hu_dataset.ipynb) - The class representing a dataset and its miscancellous properties and functions.\n",
    "* [Phase](docs/hu_phase.ipynb) - The class representing a phase obtained from various methods.\n",
    "\n",
    "\\* *Work in progress.*\n",
    "\n",
    "\\** *Manual control will be added in the future releases.*"
   ]
  }
 ],
 "metadata": {
  "kernelspec": {
   "display_name": "Python 3",
   "language": "python",
   "name": "python3"
  },
  "language_info": {
   "codemirror_mode": {
    "name": "ipython",
    "version": 3
   },
   "file_extension": ".py",
   "mimetype": "text/x-python",
   "name": "python",
   "nbconvert_exporter": "python",
   "pygments_lexer": "ipython3",
   "version": "3.7.6"
  }
 },
 "nbformat": 4,
 "nbformat_minor": 4
}
