{
 "cells": [
  {
   "cell_type": "markdown",
   "metadata": {},
   "source": [
    "## 8. Ablakolt Fourier-transzformációs módszer, WFTMethod\n",
    "\n",
    "\n",
    "Ezt az eljárást csak szimulált interferogramon tudom bemutatni. Példaként generálok egy interferogramot:"
   ]
  },
  {
   "cell_type": "code",
   "execution_count": 1,
   "metadata": {},
   "outputs": [],
   "source": [
    "import numpy as np\n",
    "import matplotlib.pyplot as plt\n",
    "import pysprint as ps"
   ]
  },
  {
   "cell_type": "code",
   "execution_count": 2,
   "metadata": {},
   "outputs": [
    {
     "data": {
      "image/png": "[encoded data removed]",
      "text/plain": [
       "<Figure size 432x288 with 1 Axes>"
      ]
     },
     "metadata": {
      "needs_background": "light"
     },
     "output_type": "display_data"
    }
   ],
   "source": [
    "g = ps.Generator(1, 4, 2.5, delay=900, GDD=400, FOD=40000, pulse_width=3, resolution=0.05)\n",
    "g.generate()\n",
    "\n",
    "mywft = ps.WFTMethod(*g.data)\n",
    "mywft.plot()"
   ]
  },
  {
   "cell_type": "code",
   "execution_count": 3,
   "metadata": {},
   "outputs": [],
   "source": [
    "mywft.add_window_linspace(2.2, 3.1, 200, fwhm=0.04, order=2)"
   ]
  },
  {
   "cell_type": "markdown",
   "metadata": {},
   "source": [
    "**FONTOS!** \n",
    "\n",
    "Ha a fenti `add_window_linspace` lefutott, akkor az ablakfüggvény sorozat már hozzáadódott az interferogramhoz. Ha később megváltoztatnánk bármelyik paraméterét (pl. inkább más `fwhm`-ot szeretnénk beállítani), akkor az előző ablakfüggvények is megmaradak. Emiatt ajánlott a fenti cellát a következőképpen használni:"
   ]
  },
  {
   "cell_type": "code",
   "execution_count": 4,
   "metadata": {},
   "outputs": [],
   "source": [
    "# az összes hozzáadott ablakfüggvény eltávolítása függetlenül attól, hogy korábban voltak-e\n",
    "mywft.remove_all_windows()\n",
    "\n",
    "# ezután adom hozzá az ablakfüggvény sorozatot\n",
    "mywft.add_window_linspace(2.2, 3.1, 200, fwhm=0.05, order=2)"
   ]
  },
  {
   "cell_type": "markdown",
   "metadata": {},
   "source": [
    "Az aktuálisan hozzáadott ablakfüggvényeket a `WFTMethod.windows` paraméterrel érjük el, ami egy `dictionary`-t ad vissza, amelyben a *key* az ablakfüggvény központi helye, a hozzá tartozó *value* pedig maga az ablakfüggvény reprezentációja (`ps.core.method.wft.Window`)."
   ]
  },
  {
   "cell_type": "code",
   "execution_count": 5,
   "metadata": {},
   "outputs": [
    {
     "data": {
      "text/plain": [
       "{2.2: Window(center=2.20000, fwhm=0.05, order=2),\n",
       " 2.204522613065327: Window(center=2.20452, fwhm=0.05, order=2),\n",
       " 2.2090452261306535: Window(center=2.20905, fwhm=0.05, order=2),\n",
       " 2.21356783919598: Window(center=2.21357, fwhm=0.05, order=2),\n",
       " 2.2180904522613067: Window(center=2.21809, fwhm=0.05, order=2),\n",
       " 2.2226130653266334: Window(center=2.22261, fwhm=0.05, order=2),\n",
       " 2.22713567839196: Window(center=2.22714, fwhm=0.05, order=2),\n",
       " 2.2316582914572867: Window(center=2.23166, fwhm=0.05, order=2),\n",
       " 2.2361809045226133: Window(center=2.23618, fwhm=0.05, order=2),\n",
       " 2.24070351758794: Window(center=2.24070, fwhm=0.05, order=2),\n",
       " 2.2452261306532666: Window(center=2.24523, fwhm=0.05, order=2),\n",
       " 2.2497487437185932: Window(center=2.24975, fwhm=0.05, order=2),\n",
       " 2.25427135678392: Window(center=2.25427, fwhm=0.05, order=2),\n",
       " 2.2587939698492465: Window(center=2.25879, fwhm=0.05, order=2),\n",
       " 2.263316582914573: Window(center=2.26332, fwhm=0.05, order=2),\n",
       " 2.2678391959799: Window(center=2.26784, fwhm=0.05, order=2),\n",
       " 2.2723618090452264: Window(center=2.27236, fwhm=0.05, order=2),\n",
       " 2.276884422110553: Window(center=2.27688, fwhm=0.05, order=2),\n",
       " 2.2814070351758797: Window(center=2.28141, fwhm=0.05, order=2),\n",
       " 2.2859296482412064: Window(center=2.28593, fwhm=0.05, order=2),\n",
       " 2.290452261306533: Window(center=2.29045, fwhm=0.05, order=2),\n",
       " 2.2949748743718597: Window(center=2.29497, fwhm=0.05, order=2),\n",
       " 2.2994974874371863: Window(center=2.29950, fwhm=0.05, order=2),\n",
       " 2.304020100502513: Window(center=2.30402, fwhm=0.05, order=2),\n",
       " 2.3085427135678396: Window(center=2.30854, fwhm=0.05, order=2),\n",
       " 2.3130653266331658: Window(center=2.31307, fwhm=0.05, order=2),\n",
       " 2.317587939698493: Window(center=2.31759, fwhm=0.05, order=2),\n",
       " 2.322110552763819: Window(center=2.32211, fwhm=0.05, order=2),\n",
       " 2.3266331658291457: Window(center=2.32663, fwhm=0.05, order=2),\n",
       " 2.3311557788944723: Window(center=2.33116, fwhm=0.05, order=2),\n",
       " 2.335678391959799: Window(center=2.33568, fwhm=0.05, order=2),\n",
       " 2.3402010050251256: Window(center=2.34020, fwhm=0.05, order=2),\n",
       " 2.3447236180904523: Window(center=2.34472, fwhm=0.05, order=2),\n",
       " 2.349246231155779: Window(center=2.34925, fwhm=0.05, order=2),\n",
       " 2.3537688442211055: Window(center=2.35377, fwhm=0.05, order=2),\n",
       " 2.358291457286432: Window(center=2.35829, fwhm=0.05, order=2),\n",
       " 2.362814070351759: Window(center=2.36281, fwhm=0.05, order=2),\n",
       " 2.3673366834170855: Window(center=2.36734, fwhm=0.05, order=2),\n",
       " 2.371859296482412: Window(center=2.37186, fwhm=0.05, order=2),\n",
       " 2.3763819095477388: Window(center=2.37638, fwhm=0.05, order=2),\n",
       " 2.3809045226130654: Window(center=2.38090, fwhm=0.05, order=2),\n",
       " 2.385427135678392: Window(center=2.38543, fwhm=0.05, order=2),\n",
       " 2.3899497487437187: Window(center=2.38995, fwhm=0.05, order=2),\n",
       " 2.3944723618090453: Window(center=2.39447, fwhm=0.05, order=2),\n",
       " 2.398994974874372: Window(center=2.39899, fwhm=0.05, order=2),\n",
       " 2.4035175879396986: Window(center=2.40352, fwhm=0.05, order=2),\n",
       " 2.4080402010050252: Window(center=2.40804, fwhm=0.05, order=2),\n",
       " 2.412562814070352: Window(center=2.41256, fwhm=0.05, order=2),\n",
       " 2.4170854271356785: Window(center=2.41709, fwhm=0.05, order=2),\n",
       " 2.421608040201005: Window(center=2.42161, fwhm=0.05, order=2),\n",
       " 2.426130653266332: Window(center=2.42613, fwhm=0.05, order=2),\n",
       " 2.4306532663316585: Window(center=2.43065, fwhm=0.05, order=2),\n",
       " 2.435175879396985: Window(center=2.43518, fwhm=0.05, order=2),\n",
       " 2.4396984924623117: Window(center=2.43970, fwhm=0.05, order=2),\n",
       " 2.4442211055276384: Window(center=2.44422, fwhm=0.05, order=2),\n",
       " 2.448743718592965: Window(center=2.44874, fwhm=0.05, order=2),\n",
       " 2.4532663316582917: Window(center=2.45327, fwhm=0.05, order=2),\n",
       " 2.4577889447236183: Window(center=2.45779, fwhm=0.05, order=2),\n",
       " 2.462311557788945: Window(center=2.46231, fwhm=0.05, order=2),\n",
       " 2.4668341708542716: Window(center=2.46683, fwhm=0.05, order=2),\n",
       " 2.4713567839195982: Window(center=2.47136, fwhm=0.05, order=2),\n",
       " 2.475879396984925: Window(center=2.47588, fwhm=0.05, order=2),\n",
       " 2.4804020100502515: Window(center=2.48040, fwhm=0.05, order=2),\n",
       " 2.484924623115578: Window(center=2.48492, fwhm=0.05, order=2),\n",
       " 2.489447236180905: Window(center=2.48945, fwhm=0.05, order=2),\n",
       " 2.4939698492462314: Window(center=2.49397, fwhm=0.05, order=2),\n",
       " 2.498492462311558: Window(center=2.49849, fwhm=0.05, order=2),\n",
       " 2.5030150753768847: Window(center=2.50302, fwhm=0.05, order=2),\n",
       " 2.5075376884422114: Window(center=2.50754, fwhm=0.05, order=2),\n",
       " 2.512060301507538: Window(center=2.51206, fwhm=0.05, order=2),\n",
       " 2.5165829145728646: Window(center=2.51658, fwhm=0.05, order=2),\n",
       " 2.5211055276381913: Window(center=2.52111, fwhm=0.05, order=2),\n",
       " 2.525628140703518: Window(center=2.52563, fwhm=0.05, order=2),\n",
       " 2.5301507537688446: Window(center=2.53015, fwhm=0.05, order=2),\n",
       " 2.5346733668341708: Window(center=2.53467, fwhm=0.05, order=2),\n",
       " 2.539195979899498: Window(center=2.53920, fwhm=0.05, order=2),\n",
       " 2.543718592964824: Window(center=2.54372, fwhm=0.05, order=2),\n",
       " 2.548241206030151: Window(center=2.54824, fwhm=0.05, order=2),\n",
       " 2.5527638190954773: Window(center=2.55276, fwhm=0.05, order=2),\n",
       " 2.5572864321608044: Window(center=2.55729, fwhm=0.05, order=2),\n",
       " 2.5618090452261306: Window(center=2.56181, fwhm=0.05, order=2),\n",
       " 2.5663316582914573: Window(center=2.56633, fwhm=0.05, order=2),\n",
       " 2.570854271356784: Window(center=2.57085, fwhm=0.05, order=2),\n",
       " 2.5753768844221105: Window(center=2.57538, fwhm=0.05, order=2),\n",
       " 2.579899497487437: Window(center=2.57990, fwhm=0.05, order=2),\n",
       " 2.584422110552764: Window(center=2.58442, fwhm=0.05, order=2),\n",
       " 2.5889447236180905: Window(center=2.58894, fwhm=0.05, order=2),\n",
       " 2.593467336683417: Window(center=2.59347, fwhm=0.05, order=2),\n",
       " 2.5979899497487438: Window(center=2.59799, fwhm=0.05, order=2),\n",
       " 2.6025125628140704: Window(center=2.60251, fwhm=0.05, order=2),\n",
       " 2.607035175879397: Window(center=2.60704, fwhm=0.05, order=2),\n",
       " 2.6115577889447237: Window(center=2.61156, fwhm=0.05, order=2),\n",
       " 2.6160804020100503: Window(center=2.61608, fwhm=0.05, order=2),\n",
       " 2.620603015075377: Window(center=2.62060, fwhm=0.05, order=2),\n",
       " 2.6251256281407036: Window(center=2.62513, fwhm=0.05, order=2),\n",
       " 2.6296482412060302: Window(center=2.62965, fwhm=0.05, order=2),\n",
       " 2.634170854271357: Window(center=2.63417, fwhm=0.05, order=2),\n",
       " 2.6386934673366835: Window(center=2.63869, fwhm=0.05, order=2),\n",
       " 2.64321608040201: Window(center=2.64322, fwhm=0.05, order=2),\n",
       " 2.647738693467337: Window(center=2.64774, fwhm=0.05, order=2),\n",
       " 2.6522613065326635: Window(center=2.65226, fwhm=0.05, order=2),\n",
       " 2.65678391959799: Window(center=2.65678, fwhm=0.05, order=2),\n",
       " 2.6613065326633167: Window(center=2.66131, fwhm=0.05, order=2),\n",
       " 2.6658291457286434: Window(center=2.66583, fwhm=0.05, order=2),\n",
       " 2.67035175879397: Window(center=2.67035, fwhm=0.05, order=2),\n",
       " 2.6748743718592967: Window(center=2.67487, fwhm=0.05, order=2),\n",
       " 2.6793969849246233: Window(center=2.67940, fwhm=0.05, order=2),\n",
       " 2.68391959798995: Window(center=2.68392, fwhm=0.05, order=2),\n",
       " 2.6884422110552766: Window(center=2.68844, fwhm=0.05, order=2),\n",
       " 2.6929648241206032: Window(center=2.69296, fwhm=0.05, order=2),\n",
       " 2.69748743718593: Window(center=2.69749, fwhm=0.05, order=2),\n",
       " 2.7020100502512565: Window(center=2.70201, fwhm=0.05, order=2),\n",
       " 2.706532663316583: Window(center=2.70653, fwhm=0.05, order=2),\n",
       " 2.71105527638191: Window(center=2.71106, fwhm=0.05, order=2),\n",
       " 2.7155778894472364: Window(center=2.71558, fwhm=0.05, order=2),\n",
       " 2.720100502512563: Window(center=2.72010, fwhm=0.05, order=2),\n",
       " 2.7246231155778897: Window(center=2.72462, fwhm=0.05, order=2),\n",
       " 2.7291457286432164: Window(center=2.72915, fwhm=0.05, order=2),\n",
       " 2.733668341708543: Window(center=2.73367, fwhm=0.05, order=2),\n",
       " 2.7381909547738696: Window(center=2.73819, fwhm=0.05, order=2),\n",
       " 2.7427135678391963: Window(center=2.74271, fwhm=0.05, order=2),\n",
       " 2.747236180904523: Window(center=2.74724, fwhm=0.05, order=2),\n",
       " 2.7517587939698496: Window(center=2.75176, fwhm=0.05, order=2),\n",
       " 2.7562814070351758: Window(center=2.75628, fwhm=0.05, order=2),\n",
       " 2.760804020100503: Window(center=2.76080, fwhm=0.05, order=2),\n",
       " 2.765326633165829: Window(center=2.76533, fwhm=0.05, order=2),\n",
       " 2.769849246231156: Window(center=2.76985, fwhm=0.05, order=2),\n",
       " 2.7743718592964823: Window(center=2.77437, fwhm=0.05, order=2),\n",
       " 2.7788944723618094: Window(center=2.77889, fwhm=0.05, order=2),\n",
       " 2.7834170854271356: Window(center=2.78342, fwhm=0.05, order=2),\n",
       " 2.7879396984924627: Window(center=2.78794, fwhm=0.05, order=2),\n",
       " 2.792462311557789: Window(center=2.79246, fwhm=0.05, order=2),\n",
       " 2.796984924623116: Window(center=2.79698, fwhm=0.05, order=2),\n",
       " 2.801507537688442: Window(center=2.80151, fwhm=0.05, order=2),\n",
       " 2.8060301507537693: Window(center=2.80603, fwhm=0.05, order=2),\n",
       " 2.8105527638190955: Window(center=2.81055, fwhm=0.05, order=2),\n",
       " 2.815075376884422: Window(center=2.81508, fwhm=0.05, order=2),\n",
       " 2.8195979899497488: Window(center=2.81960, fwhm=0.05, order=2),\n",
       " 2.8241206030150754: Window(center=2.82412, fwhm=0.05, order=2),\n",
       " 2.828643216080402: Window(center=2.82864, fwhm=0.05, order=2),\n",
       " 2.8331658291457287: Window(center=2.83317, fwhm=0.05, order=2),\n",
       " 2.8376884422110553: Window(center=2.83769, fwhm=0.05, order=2),\n",
       " 2.842211055276382: Window(center=2.84221, fwhm=0.05, order=2),\n",
       " 2.8467336683417086: Window(center=2.84673, fwhm=0.05, order=2),\n",
       " 2.8512562814070352: Window(center=2.85126, fwhm=0.05, order=2),\n",
       " 2.855778894472362: Window(center=2.85578, fwhm=0.05, order=2),\n",
       " 2.8603015075376885: Window(center=2.86030, fwhm=0.05, order=2),\n",
       " 2.864824120603015: Window(center=2.86482, fwhm=0.05, order=2),\n",
       " 2.869346733668342: Window(center=2.86935, fwhm=0.05, order=2),\n",
       " 2.8738693467336685: Window(center=2.87387, fwhm=0.05, order=2),\n",
       " 2.878391959798995: Window(center=2.87839, fwhm=0.05, order=2),\n",
       " 2.8829145728643217: Window(center=2.88291, fwhm=0.05, order=2),\n",
       " 2.8874371859296484: Window(center=2.88744, fwhm=0.05, order=2),\n",
       " 2.891959798994975: Window(center=2.89196, fwhm=0.05, order=2),\n",
       " 2.8964824120603017: Window(center=2.89648, fwhm=0.05, order=2),\n",
       " 2.9010050251256283: Window(center=2.90101, fwhm=0.05, order=2),\n",
       " 2.905527638190955: Window(center=2.90553, fwhm=0.05, order=2),\n",
       " 2.9100502512562816: Window(center=2.91005, fwhm=0.05, order=2),\n",
       " 2.9145728643216082: Window(center=2.91457, fwhm=0.05, order=2),\n",
       " 2.919095477386935: Window(center=2.91910, fwhm=0.05, order=2),\n",
       " 2.9236180904522615: Window(center=2.92362, fwhm=0.05, order=2),\n",
       " 2.928140703517588: Window(center=2.92814, fwhm=0.05, order=2),\n",
       " 2.932663316582915: Window(center=2.93266, fwhm=0.05, order=2),\n",
       " 2.9371859296482414: Window(center=2.93719, fwhm=0.05, order=2),\n",
       " 2.941708542713568: Window(center=2.94171, fwhm=0.05, order=2),\n",
       " 2.9462311557788947: Window(center=2.94623, fwhm=0.05, order=2),\n",
       " 2.9507537688442214: Window(center=2.95075, fwhm=0.05, order=2),\n",
       " 2.955276381909548: Window(center=2.95528, fwhm=0.05, order=2),\n",
       " 2.9597989949748746: Window(center=2.95980, fwhm=0.05, order=2),\n",
       " 2.9643216080402013: Window(center=2.96432, fwhm=0.05, order=2),\n",
       " 2.968844221105528: Window(center=2.96884, fwhm=0.05, order=2),\n",
       " 2.9733668341708546: Window(center=2.97337, fwhm=0.05, order=2),\n",
       " 2.977889447236181: Window(center=2.97789, fwhm=0.05, order=2),\n",
       " 2.982412060301508: Window(center=2.98241, fwhm=0.05, order=2),\n",
       " 2.986934673366834: Window(center=2.98693, fwhm=0.05, order=2),\n",
       " 2.991457286432161: Window(center=2.99146, fwhm=0.05, order=2),\n",
       " 2.9959798994974873: Window(center=2.99598, fwhm=0.05, order=2),\n",
       " 3.0005025125628144: Window(center=3.00050, fwhm=0.05, order=2),\n",
       " 3.0050251256281406: Window(center=3.00503, fwhm=0.05, order=2),\n",
       " 3.0095477386934677: Window(center=3.00955, fwhm=0.05, order=2),\n",
       " 3.014070351758794: Window(center=3.01407, fwhm=0.05, order=2),\n",
       " 3.018592964824121: Window(center=3.01859, fwhm=0.05, order=2),\n",
       " 3.023115577889447: Window(center=3.02312, fwhm=0.05, order=2),\n",
       " 3.0276381909547743: Window(center=3.02764, fwhm=0.05, order=2),\n",
       " 3.0321608040201005: Window(center=3.03216, fwhm=0.05, order=2),\n",
       " 3.0366834170854275: Window(center=3.03668, fwhm=0.05, order=2),\n",
       " 3.0412060301507537: Window(center=3.04121, fwhm=0.05, order=2),\n",
       " 3.0457286432160804: Window(center=3.04573, fwhm=0.05, order=2),\n",
       " 3.050251256281407: Window(center=3.05025, fwhm=0.05, order=2),\n",
       " 3.0547738693467337: Window(center=3.05477, fwhm=0.05, order=2),\n",
       " 3.0592964824120603: Window(center=3.05930, fwhm=0.05, order=2),\n",
       " 3.063819095477387: Window(center=3.06382, fwhm=0.05, order=2),\n",
       " 3.0683417085427136: Window(center=3.06834, fwhm=0.05, order=2),\n",
       " 3.0728643216080402: Window(center=3.07286, fwhm=0.05, order=2),\n",
       " 3.077386934673367: Window(center=3.07739, fwhm=0.05, order=2),\n",
       " 3.0819095477386935: Window(center=3.08191, fwhm=0.05, order=2),\n",
       " 3.08643216080402: Window(center=3.08643, fwhm=0.05, order=2),\n",
       " 3.090954773869347: Window(center=3.09095, fwhm=0.05, order=2),\n",
       " 3.0954773869346734: Window(center=3.09548, fwhm=0.05, order=2),\n",
       " 3.1: Window(center=3.10000, fwhm=0.05, order=2)}"
      ]
     },
     "execution_count": 5,
     "metadata": {},
     "output_type": "execute_result"
    }
   ],
   "source": [
    "mywft.windows"
   ]
  },
  {
   "cell_type": "markdown",
   "metadata": {},
   "source": [
    "Ablakfüggvényt törölni a `remove_window_at(center)` függvénnyel lehetséges. Ennek az ablakfüggvény központi helyét kell megadni. Ha nincs olyan ablakfüggvény, akkor a hibaüzenetben segítséget nyújt: kiiírja a legközelebbi ablakfüggvényt."
   ]
  },
  {
   "cell_type": "code",
   "execution_count": 6,
   "metadata": {},
   "outputs": [
    {
     "ename": "ValueError",
     "evalue": "There is no window with center 2.25. Did you mean 2.2497487437185932?",
     "output_type": "error",
     "traceback": [
      "\u001b[1;31m---------------------------------------------------------------------------\u001b[0m",
      "\u001b[1;31mValueError\u001b[0m                                Traceback (most recent call last)",
      "\u001b[1;32m<ipython-input-6-09040b9a91a3>\u001b[0m in \u001b[0;36m<module>\u001b[1;34m\u001b[0m\n\u001b[1;32m----> 1\u001b[1;33m \u001b[0mmywft\u001b[0m\u001b[1;33m.\u001b[0m\u001b[0mremove_window_at\u001b[0m\u001b[1;33m(\u001b[0m\u001b[1;36m2.25\u001b[0m\u001b[1;33m)\u001b[0m\u001b[1;33m\u001b[0m\u001b[1;33m\u001b[0m\u001b[0m\n\u001b[0m",
      "\u001b[1;32mc:\\pyt\\pysprint\\pysprint\\core\\methods\\wft.py\u001b[0m in \u001b[0;36mremove_window_at\u001b[1;34m(self, center)\u001b[0m\n\u001b[0;32m    293\u001b[0m             )\n\u001b[0;32m    294\u001b[0m             raise ValueError(\n\u001b[1;32m--> 295\u001b[1;33m                 \u001b[1;34mf\"There is no window with center {center}. \"\u001b[0m\u001b[1;33m\u001b[0m\u001b[1;33m\u001b[0m\u001b[0m\n\u001b[0m\u001b[0;32m    296\u001b[0m                 \u001b[1;34mf\"Did you mean {c[0]}?\"\u001b[0m\u001b[1;33m\u001b[0m\u001b[1;33m\u001b[0m\u001b[0m\n\u001b[0;32m    297\u001b[0m             )\n",
      "\u001b[1;31mValueError\u001b[0m: There is no window with center 2.25. Did you mean 2.2497487437185932?"
     ]
    }
   ],
   "source": [
    "mywft.remove_window_at(2.25)"
   ]
  },
  {
   "cell_type": "code",
   "execution_count": null,
   "metadata": {},
   "outputs": [],
   "source": [
    "mywft.calculate(reference_point=2.5, order=4, fastmath=False);"
   ]
  },
  {
   "cell_type": "markdown",
   "metadata": {},
   "source": [
    "A fenti `calculate` függvény ha már egyszer lefutott és megpróbáljuk újra lefuttatni más referencia ponttal vagy más illesztési renddel, akkor a gyorsítótárazás miatt azok már azonnal végrehajtódnak (csak az illesztést számolja újra)."
   ]
  },
  {
   "cell_type": "code",
   "execution_count": null,
   "metadata": {},
   "outputs": [],
   "source": [
    "mywft.heatmap()"
   ]
  },
  {
   "cell_type": "code",
   "execution_count": null,
   "metadata": {},
   "outputs": [],
   "source": [
    "mywft.errorplot(percent=True)"
   ]
  },
  {
   "cell_type": "markdown",
   "metadata": {},
   "source": [
    "Példa tetszőleges plotok készítésére:"
   ]
  },
  {
   "cell_type": "code",
   "execution_count": null,
   "metadata": {},
   "outputs": [],
   "source": [
    "fig, ((ax1, ax2), (ax3, ax4)) = plt.subplots(2, 2, figsize=(13, 11))\n",
    "\n",
    "mywft.plot(ax=ax1)\n",
    "ax1.set(title=\"Eredeti ifg\")\n",
    "\n",
    "mywft.view_windows(ax=ax2, maxsize=200)\n",
    "ax2.set(title=\"Eredeti ifg ablakfüggvényekkel\")\n",
    "\n",
    "mywft.heatmap(ax=ax3, include_ridge=True)\n",
    "ax3.set(title=\"Contourplot\");\n",
    "\n",
    "mywft.errorplot(ax=ax4, percent=True)"
   ]
  },
  {
   "cell_type": "markdown",
   "metadata": {},
   "source": [
    "Példa csak a `build_GD` függvény használatára:"
   ]
  },
  {
   "cell_type": "code",
   "execution_count": 7,
   "metadata": {},
   "outputs": [],
   "source": [
    "f = ps.Generator(1, 4, 2.5, delay=1900, GDD=-600, TOD=4000, pulse_width=3, resolution=0.05)\n",
    "f.generate()\n",
    "\n",
    "mywft2 = ps.WFTMethod(*f.data)"
   ]
  },
  {
   "cell_type": "code",
   "execution_count": 8,
   "metadata": {},
   "outputs": [],
   "source": [
    "mywft2.add_window_arange(1.5, 3.5, 0.05, std=0.04)"
   ]
  },
  {
   "cell_type": "code",
   "execution_count": 9,
   "metadata": {},
   "outputs": [
    {
     "name": "stdout",
     "output_type": "stream",
     "text": [
      "Progress : [==============================] 100%"
     ]
    }
   ],
   "source": [
    "GD_gorbe = mywft2.build_GD()"
   ]
  },
  {
   "cell_type": "code",
   "execution_count": 10,
   "metadata": {},
   "outputs": [
    {
     "data": {
      "text/latex": [
       "$\\displaystyle GD = 1901.63964 ± 0.00000 fs^1$"
      ],
      "text/plain": [
       "<IPython.core.display.Math object>"
      ]
     },
     "metadata": {},
     "output_type": "display_data"
    },
    {
     "data": {
      "text/latex": [
       "$\\displaystyle GDD = -598.10500 ± 0.22507 fs^2$"
      ],
      "text/plain": [
       "<IPython.core.display.Math object>"
      ]
     },
     "metadata": {},
     "output_type": "display_data"
    },
    {
     "data": {
      "text/latex": [
       "$\\displaystyle TOD = 3973.67132 ± 0.86871 fs^3$"
      ],
      "text/plain": [
       "<IPython.core.display.Math object>"
      ]
     },
     "metadata": {},
     "output_type": "display_data"
    }
   ],
   "source": [
    "GD_gorbe.fit(reference_point=2.5, order=3);"
   ]
  },
  {
   "cell_type": "code",
   "execution_count": 11,
   "metadata": {},
   "outputs": [
    {
     "data": {
      "image/png": "[encoded data removed]",
      "text/plain": [
       "<Figure size 432x288 with 1 Axes>"
      ]
     },
     "metadata": {
      "needs_background": "light"
     },
     "output_type": "display_data"
    }
   ],
   "source": [
    "GD_gorbe.errorplot(percent=True)"
   ]
  },
  {
   "cell_type": "markdown",
   "metadata": {},
   "source": [
    "A `fastmath` opciót itt nem adtam meg. Ez alapértelmezetten `True`, ilyenkor a `heatmap` nem hívható, mivel ekkor az ahhoz szükséges adatokat nem építi fel a program."
   ]
  },
  {
   "cell_type": "code",
   "execution_count": 12,
   "metadata": {},
   "outputs": [
    {
     "ename": "ValueError",
     "evalue": "You need to recalculate with `fastmath=False` to plot the heatmap.",
     "output_type": "error",
     "traceback": [
      "\u001b[1;31m---------------------------------------------------------------------------\u001b[0m",
      "\u001b[1;31mValueError\u001b[0m                                Traceback (most recent call last)",
      "\u001b[1;32m<ipython-input-12-a73a1c58c8ce>\u001b[0m in \u001b[0;36m<module>\u001b[1;34m\u001b[0m\n\u001b[1;32m----> 1\u001b[1;33m \u001b[0mmywft2\u001b[0m\u001b[1;33m.\u001b[0m\u001b[0mheatmap\u001b[0m\u001b[1;33m(\u001b[0m\u001b[1;33m)\u001b[0m\u001b[1;33m\u001b[0m\u001b[1;33m\u001b[0m\u001b[0m\n\u001b[0m",
      "\u001b[1;32mc:\\pyt\\pysprint\\pysprint\\core\\methods\\wft.py\u001b[0m in \u001b[0;36mheatmap\u001b[1;34m(self, ax, levels, cmap, include_ridge)\u001b[0m\n\u001b[0;32m    528\u001b[0m         \u001b[1;32mif\u001b[0m \u001b[0mself\u001b[0m\u001b[1;33m.\u001b[0m\u001b[0mfastmath\u001b[0m\u001b[1;33m:\u001b[0m\u001b[1;33m\u001b[0m\u001b[1;33m\u001b[0m\u001b[0m\n\u001b[0;32m    529\u001b[0m             raise ValueError(\n\u001b[1;32m--> 530\u001b[1;33m                 \u001b[1;34m\"You need to recalculate with `fastmath=False` to plot the heatmap.\"\u001b[0m\u001b[1;33m\u001b[0m\u001b[1;33m\u001b[0m\u001b[0m\n\u001b[0m\u001b[0;32m    531\u001b[0m             )\n\u001b[0;32m    532\u001b[0m         \u001b[1;31m# Only construct if we need to..\u001b[0m\u001b[1;33m\u001b[0m\u001b[1;33m\u001b[0m\u001b[1;33m\u001b[0m\u001b[0m\n",
      "\u001b[1;31mValueError\u001b[0m: You need to recalculate with `fastmath=False` to plot the heatmap."
     ]
    }
   ],
   "source": [
    "mywft2.heatmap()"
   ]
  },
  {
   "cell_type": "markdown",
   "metadata": {},
   "source": [
    "Néhány hiányosság: \n",
    "\n",
    "* A gerincvonalat a program automatikusan keresi meg, jelenleg még nincs lehetőség manuálisan állítani.\n",
    "\n",
    "\n",
    "* Csak egyetlen egy gerincvonalat keres meg, így nem alkalmas pl. kettősen törő optikai szálak esetén, amikor mindkét polarizációs tengelye mentén terjedő módus egyidejűleg gerjesztve van.\n"
   ]
  }
 ],
 "metadata": {
  "kernelspec": {
   "display_name": "Python 3",
   "language": "python",
   "name": "python3"
  },
  "language_info": {
   "codemirror_mode": {
    "name": "ipython",
    "version": 3
   },
   "file_extension": ".py",
   "mimetype": "text/x-python",
   "name": "python",
   "nbconvert_exporter": "python",
   "pygments_lexer": "ipython3",
   "version": "3.7.6"
  }
 },
 "nbformat": 4,
 "nbformat_minor": 4
}
